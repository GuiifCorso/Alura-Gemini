{
  "nbformat": 4,
  "nbformat_minor": 0,
  "metadata": {
    "colab": {
      "provenance": [],
      "authorship_tag": "ABX9TyMVG9tG7WqD6jvlsMGeYZRj",
      "include_colab_link": true
    },
    "kernelspec": {
      "name": "python3",
      "display_name": "Python 3"
    },
    "language_info": {
      "name": "python"
    }
  },
  "cells": [
    {
      "cell_type": "markdown",
      "metadata": {
        "id": "view-in-github",
        "colab_type": "text"
      },
      "source": [
        "<a href=\"https://colab.research.google.com/github/GuiifCorso/Alura-Gemini/blob/main/Untitled0.ipynb\" target=\"_parent\"><img src=\"https://colab.research.google.com/assets/colab-badge.svg\" alt=\"Open In Colab\"/></a>"
      ]
    },
    {
      "cell_type": "code",
      "execution_count": null,
      "metadata": {
        "id": "IajTCSb2H64C"
      },
      "outputs": [],
      "source": [
        "!pip install playsound --upgrade\n",
        "!pip install pillow\n",
        "!pip install gtts"
      ]
    },
    {
      "cell_type": "code",
      "source": [
        "from gtts import gTTS\n",
        "from playsound import playsound"
      ],
      "metadata": {
        "id": "dY6L0M6efFLP"
      },
      "execution_count": null,
      "outputs": []
    },
    {
      "cell_type": "code",
      "source": [
        "import requests as r\n",
        "from bs4 import BeautifulSoup as bs\n",
        "import os\n",
        "import playsound\n",
        "from PIL import Image\n",
        "import urllib.request\n",
        "\n",
        "language = os.environ.get(\"LANG\")\n",
        "\n",
        "if \"br\" in language.lower():\n",
        "  print(\"PT-BR\")\n",
        "else:\n",
        "  print(\"LANG\")\n",
        "\n",
        "\n",
        "url = \"https://g1.globo.com/\"\n",
        "response = r.get(url)\n",
        "soup = bs(response.content, \"html.parser\")\n",
        "\n",
        "image_list = []\n",
        "\n",
        "images = soup.find_all(\"img\", attrs={\"src\": True})\n",
        "\n",
        "index = 0\n",
        "for image in images:\n",
        "    index += 1\n",
        "    image_raw_url = image[\"src\"]\n",
        "    image_url = r.get(image_raw_url, stream=True)\n",
        "    image = image_url.content\n",
        "    with open(f\"image{index}.jpg\", \"wb\") as f:\n",
        "        f.write(image)\n",
        "\n",
        "print(image_list)"
      ],
      "metadata": {
        "colab": {
          "base_uri": "https://localhost:8080/"
        },
        "id": "BfwpL9o4WpOk",
        "outputId": "611b1e77-c0e9-4453-d708-e24c02203b51"
      },
      "execution_count": null,
      "outputs": [
        {
          "output_type": "stream",
          "name": "stdout",
          "text": [
            "PT-BR\n",
            "en_US.UTF-8\n",
            "[]\n"
          ]
        }
      ]
    }
  ]
}